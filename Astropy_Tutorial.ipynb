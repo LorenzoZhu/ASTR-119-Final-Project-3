{
 "cells": [
  {
   "cell_type": "markdown",
   "metadata": {},
   "source": [
    "# Astropy Tutorial\n",
    "\n",
    "This tutorial will show how to detect object in an image using SEP. It will also show how to perform basic aperture photometry."
   ]
  },
  {
   "cell_type": "markdown",
   "metadata": {},
   "source": [
    "#### Import neccessary packages. "
   ]
  },
  {
   "cell_type": "code",
   "execution_count": null,
   "metadata": {},
   "outputs": [],
   "source": [
    "%matplotlib inline\n",
    "import numpy as np\n",
    "import matplotlib.pyplot as plt\n",
    "\n",
    "import sep                         #the package we will use to detect object\n",
    "import astropy                     #imports astropy if you don't have it\n",
    "\n",
    "from astropy.io import fits        #opens and works with the fits files\n",
    "from matplotlib import rcParams    #parameters in matplotlib\n",
    "\n",
    "rcParams['figure.figsize'] = [12., 10.]\n",
    "\n",
    "save_path = 'C://Users/eyune/Desktop/' #creates a path for the saved images\n",
    "                                       #change this be your desktop path"
   ]
  },
  {
   "cell_type": "markdown",
   "metadata": {},
   "source": [
    "#### Open the FITS file.\n",
    "\n",
    "Print out information from the file.\n",
    "\n",
    "Note: fname is the path of the file on your laptop. Make sure to change fname to the correct path when implementing this tutorial."
   ]
  },
  {
   "cell_type": "code",
   "execution_count": null,
   "metadata": {},
   "outputs": [],
   "source": [
    "fname = \"C://Users/eyune/Downloads/image.fits\"     #path of file on my laptp\n",
    "hdu_list = fits.open(fname)                        #opens the fits file\n",
    "hdu_list.info()                                    #outputs the information of the file\n",
    "\n",
    "# location of the image in the lsit and reassign this item to image_data\n",
    "image_data = hdu_list[0].data\n",
    "\n",
    "# print out the type of data the file is and the shape of the image\n",
    "print(\"Type: \", type(image_data))\n",
    "print(\"Dimensions: \", image_data.shape)\n",
    "\n",
    "# close the fits file since it is now stored in image_data\n",
    "hdu_list.close()\n",
    "\n",
    "#Note: If WARNINGS arise, do not pay attention. This is just a formatting error in the fits file."
   ]
  },
  {
   "cell_type": "markdown",
   "metadata": {},
   "source": [
    "#### Use 'getdata()' to read in the image data and close the file and display the image.\n",
    "Here we will obtain the data from the fits file and show the image using imshow() and a color map.\n",
    "\n",
    "Numpy.mean() will compute the arithmetic mean along the specified axis.\n",
    "Numpy.std() computes the standard deviation on the specified axis."
   ]
  },
  {
   "cell_type": "code",
   "execution_count": null,
   "metadata": {
    "scrolled": false
   },
   "outputs": [],
   "source": [
    "image_data = fits.getdata(fname)    #obtains the actual data from the fits file\n",
    "\n",
    "#show image\n",
    "m, s = np.mean(image_data), np.std(image_data) \n",
    "plt.imshow(image_data, interpolation = 'nearest', cmap = 'gray', vmin = m-s, vmax = m+s,  origin = 'lower')\n",
    "plt.colorbar()\n",
    "\n",
    "#we want to save the background using plt.savefig() at a high resolution so that it looks nice.\n",
    "#bbox_inches = 'tight' makes sure these images gets saved the same size and exactly how we see them in the notbook.\n",
    "plt.savefig(save_path + 'raw_image.png', dpi = 470, bbox_inches = 'tight')"
   ]
  },
  {
   "cell_type": "markdown",
   "metadata": {},
   "source": [
    "## Background Subtraction\n",
    "Since there is a lot of noise from the background of the image, we must subtract the background from the optical/IR data. We don't want insiginificant brightness fluctuations to effect the object detection, so one way to fix that is to just subtract it out from the image."
   ]
  },
  {
   "cell_type": "markdown",
   "metadata": {},
   "source": [
    "#### Measure a spatially varying background on the image. \n",
    "Find the global mean and the noise of the background image so that we can eventually subtract it out of the image."
   ]
  },
  {
   "cell_type": "code",
   "execution_count": null,
   "metadata": {},
   "outputs": [],
   "source": [
    "#measuring a spatially  varying background, this will find the insignificant fluctuations\n",
    "bkg = sep.Background(image_data, bw = 64, bh = 64, fw = 3, fh = 3)\n",
    "\n",
    "# get a \"global\" mean and noise of the image background\n",
    "print(bkg.globalback)\n",
    "print(bkg.globalrms)"
   ]
  },
  {
   "cell_type": "markdown",
   "metadata": {},
   "source": [
    "#### Evaluate the backgroud as 2-D array and show the background."
   ]
  },
  {
   "cell_type": "code",
   "execution_count": null,
   "metadata": {},
   "outputs": [],
   "source": [
    "#evaluate background as 2-d array, should be the same size as the original image\n",
    "bkg_image = bkg.back()\n",
    "\n",
    "#show the backgroun\n",
    "plt.imshow(bkg_image, interpolation = 'nearest', cmap = 'gray', origin = 'lower')\n",
    "plt.colorbar();\n",
    "\n",
    "#we want to save the background using plt.savefig() at a high resolution so that it looks nice.\n",
    "#bbox_inches = 'tight' makes sure these images gets saved the same size and exactly how we see them in the notbook.\n",
    "plt.savefig(save_path + 'background.png', dpi = 470, bbox_inches = 'tight')"
   ]
  },
  {
   "cell_type": "markdown",
   "metadata": {},
   "source": [
    "#### Evaluate the abckground noise as 2-D array and show the background noise."
   ]
  },
  {
   "cell_type": "code",
   "execution_count": null,
   "metadata": {},
   "outputs": [],
   "source": [
    "# evaluate the background noise as 2-d array, same size as original image\n",
    "bkg_rms = bkg.rms()\n",
    "\n",
    "#show the background noise\n",
    "plt.imshow(bkg_rms, interpolation = 'nearest', cmap = 'gray', origin = 'lower')\n",
    "plt.colorbar();\n",
    "\n",
    "#we want to save the background using plt.savefig() at a high resolution so that it looks nice.\n",
    "#bbox_inches = 'tight' makes sure these images gets saved the same size and exactly how we see them in the notbook.\n",
    "plt.savefig(save_path + 'background_noise.png', dpi = 470, bbox_inches = 'tight')"
   ]
  },
  {
   "cell_type": "markdown",
   "metadata": {},
   "source": [
    "#### Subtract the background from the image to obtain an image that is easier to detect objects from. \n",
    "This will give us the image without the background of fluctuations."
   ]
  },
  {
   "cell_type": "code",
   "execution_count": null,
   "metadata": {},
   "outputs": [],
   "source": [
    "data_sub = image_data - bkg"
   ]
  },
  {
   "cell_type": "markdown",
   "metadata": {},
   "source": [
    "## Object Detection\n",
    "We can perform the object detection from the background-subtracted image. Since the noise level is fairly flate, we set a detection threshold of 1.5σ. σ us the global background RMS."
   ]
  },
  {
   "cell_type": "markdown",
   "metadata": {},
   "source": [
    "#### sep.extract() will point out all the places with a detection threshold of 1.5σ. "
   ]
  },
  {
   "cell_type": "code",
   "execution_count": null,
   "metadata": {},
   "outputs": [],
   "source": [
    "objects = sep.extract(data_sub, 1.5, err = bkg.globalrms)\n",
    "\n",
    "#Number of objects detected\n",
    "len(objects)"
   ]
  },
  {
   "cell_type": "markdown",
   "metadata": {},
   "source": [
    "#### Here we will plot the image and point out the objects. \n",
    "From here we will also know the object coordinates with other basic shape parameters."
   ]
  },
  {
   "cell_type": "code",
   "execution_count": null,
   "metadata": {},
   "outputs": [],
   "source": [
    "from matplotlib.patches import Ellipse    #Ellipse fitting\n",
    "\n",
    "#plot bagkround_subtracted image\n",
    "fig, ax = plt.subplots()\n",
    "m, s = np.mean(data_sub), np.std(data_sub)\n",
    "im = ax.imshow(data_sub, interpolation = 'nearest', cmap = 'gray', vmin = m - s, vmax = m + s, origin = 'lower')\n",
    "\n",
    "#plot an ellipse for each object\n",
    "#objects['x'] and objects['y'] will give the centroid coordinates of the objects.\n",
    "for i in range(len(objects)):\n",
    "    e = Ellipse(xy = (objects['x'][i], objects['y'][i]), width = 6*objects['a'][i], height = 6*objects['b'][i], angle = objects['theta'][i] * 180. / np.pi)\n",
    "    e.set_facecolor('none')   #leaves the center of the ellipse clear\n",
    "    e.set_edgecolor('red')    #outlines the ellipse with a specified color\n",
    "    ax.add_artist(e)          #add the ellipse to the image\n",
    "\n",
    "#we want to save the background using plt.savefig() at a high resolution so that it looks nice.\n",
    "#bbox_inches = 'tight' makes sure these images gets saved the same size and exactly how we see them in the notbook.\n",
    "plt.savefig(save_path + 'image_object_detection.png', dpi = 470, bbox_inches = 'tight')"
   ]
  },
  {
   "cell_type": "markdown",
   "metadata": {},
   "source": [
    "#### You can output more information from the 'objects' function. \n",
    "Here is a list of all the available field."
   ]
  },
  {
   "cell_type": "code",
   "execution_count": null,
   "metadata": {},
   "outputs": [],
   "source": [
    "objects.dtype.names"
   ]
  },
  {
   "cell_type": "markdown",
   "metadata": {},
   "source": [
    "## Aperature Photometry\n",
    "Now we will perform simple circular aperature photometery with a 3-pixel radius at the locations of the objects. Photometry is a technique used in astronomy to measure the intensity (flux) of an astronomical object electromagnetic radiation. So here, we will outputthe fluc of the objects."
   ]
  },
  {
   "cell_type": "code",
   "execution_count": null,
   "metadata": {},
   "outputs": [],
   "source": [
    "flux, fluxerr, flag = sep.sum_circle(data_sub, objects['x'], objects['y'], 3.0, err = bkg.globalrms, gain = 1.0)"
   ]
  },
  {
   "cell_type": "code",
   "execution_count": null,
   "metadata": {},
   "outputs": [],
   "source": [
    "#here we loop through each object to obtain its flux with error\n",
    "for i in range(len(objects)):\n",
    "    print(\"object {:d}: flux = {:f} +/- {:f}\".format(i + 1, flux[i], fluxerr[i]))"
   ]
  },
  {
   "cell_type": "code",
   "execution_count": null,
   "metadata": {},
   "outputs": [],
   "source": []
  }
 ],
 "metadata": {
  "kernelspec": {
   "display_name": "Python 3",
   "language": "python",
   "name": "python3"
  },
  "language_info": {
   "codemirror_mode": {
    "name": "ipython",
    "version": 3
   },
   "file_extension": ".py",
   "mimetype": "text/x-python",
   "name": "python",
   "nbconvert_exporter": "python",
   "pygments_lexer": "ipython3",
   "version": "3.6.4"
  }
 },
 "nbformat": 4,
 "nbformat_minor": 2
}
