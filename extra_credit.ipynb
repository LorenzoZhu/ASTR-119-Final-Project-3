{
 "cells": [
  {
   "cell_type": "markdown",
   "metadata": {},
   "source": [
    "### Import the modules(Pengpei Zhu)"
   ]
  },
  {
   "cell_type": "code",
   "execution_count": null,
   "metadata": {},
   "outputs": [],
   "source": [
    "%matplotlib inline\n",
    "import numpy as np\n",
    "import matplotlib.pyplot as plt\n",
    "from astropy.io import fits                      #the module that reads fits files\n",
    "from matplotlib import rcParams    #parameters in matplotlib\n",
    "from astropy.visualization import SqrtStretch  #the sretch tool for making the image brighter\n",
    "\n",
    "rcParams['figure.figsize'] = [12., 10.]"
   ]
  },
  {
   "cell_type": "markdown",
   "metadata": {},
   "source": [
    "### Open the files(Pengpei Zhu)"
   ]
  },
  {
   "cell_type": "code",
   "execution_count": null,
   "metadata": {},
   "outputs": [],
   "source": [
    "#name of the UDF filter images\n",
    "r_name = \"hlsp_hudf12_hst_wfc3ir_udfmain_f160w_v1.0_drz.fits\"\n",
    "g_name = \"hlsp_hudf12_hst_wfc3ir_udfmain_f125w_v1.0_drz.fits\"\n",
    "b_name = \"hlsp_hudf12_hst_wfc3ir_udfmain_f105w_v1.0_drz.fits\"\n",
    "\n",
    "#read the data using fits.getdata()\n",
    "#define r,g,b coresponsend to UDF\n",
    "r = fits.getdata(r_name)\n",
    "g = fits.getdata(g_name)\n",
    "b = fits.getdata(b_name)\n",
    "\n",
    "#the type and shape of the three images\n",
    "#should be the same\n",
    "\n",
    "print(\"Type r:\",type(r))\n",
    "print(\"Shape r:\",r.shape)\n",
    "\n",
    "print(\"Type g:\",type(g))\n",
    "print(\"Shape g:\",g.shape)\n",
    "\n",
    "print(\"Type b:\",type(b))\n",
    "print(\"Shape b:\",b.shape)\n"
   ]
  },
  {
   "cell_type": "markdown",
   "metadata": {},
   "source": [
    "### Stack the images(Pengpei Zhu)"
   ]
  },
  {
   "cell_type": "code",
   "execution_count": null,
   "metadata": {},
   "outputs": [],
   "source": [
    "#define the stretch tool\n",
    "stretch = SqrtStretch()\n",
    "#stack the rgb files together\n",
    "rgb_stack = np.dstack([r,g,b])\n",
    "#stretch the image\n",
    "HUDF_RGB = stretch(rgb_stack)\n",
    "\n",
    "#show the image\n",
    "plt.imshow(HUDF_RGB)\n",
    "#save as a png file\n",
    "plt.savefig('HUDF_RGB.png')"
   ]
  }
 ],
 "metadata": {
  "kernelspec": {
   "display_name": "Python 3",
   "language": "python",
   "name": "python3"
  },
  "language_info": {
   "codemirror_mode": {
    "name": "ipython",
    "version": 3
   },
   "file_extension": ".py",
   "mimetype": "text/x-python",
   "name": "python",
   "nbconvert_exporter": "python",
   "pygments_lexer": "ipython3",
   "version": "3.7.0"
  }
 },
 "nbformat": 4,
 "nbformat_minor": 2
}
