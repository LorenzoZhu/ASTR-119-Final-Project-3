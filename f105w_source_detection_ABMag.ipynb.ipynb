{
 "cells": [
  {
   "cell_type": "markdown",
   "metadata": {},
   "source": [
    "## Nina Robbins: Source Detection\n",
    "\n",
    "### Import Modules"
   ]
  },
  {
   "cell_type": "code",
   "execution_count": null,
   "metadata": {},
   "outputs": [],
   "source": [
    "import astropy\n",
    "import sep\n",
    "from astropy.io import fits\n",
    "import numpy as np\n",
    "import matplotlib.pyplot as plt\n",
    "from matplotlib import rcParams\n",
    "\n",
    "rcParams['figure.figsize'] = [16., 13.]"
   ]
  },
  {
   "cell_type": "markdown",
   "metadata": {},
   "source": [
    "### Open and Visualize the fits File"
   ]
  },
  {
   "cell_type": "code",
   "execution_count": null,
   "metadata": {},
   "outputs": [],
   "source": [
    "fname = 'hlsp_hudf12_hst_wfc3ir_udfmain_f105w_v1.0_drz.fits'\n",
    "hdu_list = fits.open(fname)"
   ]
  },
  {
   "cell_type": "code",
   "execution_count": null,
   "metadata": {},
   "outputs": [],
   "source": [
    "image_data = hdu_list[0].data    #obtains the actual data from the fits file\n",
    "\n",
    "#show image\n",
    "m, s = np.mean(image_data), np.std(image_data) \n",
    "plt.imshow(image_data, interpolation = 'nearest', cmap = 'gray', vmin = m-s, vmax = m+s,  origin = 'lower')\n",
    "plt.colorbar()"
   ]
  },
  {
   "cell_type": "markdown",
   "metadata": {},
   "source": [
    "### Measure a spatially varying background on image"
   ]
  },
  {
   "cell_type": "code",
   "execution_count": null,
   "metadata": {},
   "outputs": [],
   "source": [
    "image_data = image_data.byteswap().newbyteorder()\n",
    "bkg = sep.Background(image_data)\n",
    "print(bkg.globalback)\n",
    "print(bkg.globalrms)"
   ]
  },
  {
   "cell_type": "code",
   "execution_count": null,
   "metadata": {},
   "outputs": [],
   "source": [
    "bkg_image = bkg.back() #evaluates background as a 2d array, like the original image\n",
    "plt.imshow(bkg_image, interpolation='nearest', cmap='gray', origin='lower')"
   ]
  },
  {
   "cell_type": "markdown",
   "metadata": {},
   "source": [
    "### Background noise as a 2d array"
   ]
  },
  {
   "cell_type": "code",
   "execution_count": null,
   "metadata": {},
   "outputs": [],
   "source": [
    "bkg_rms = bkg.rms()\n",
    "plt.imshow(bkg_rms, interpolation='nearest', cmap='gray', origin='lower')"
   ]
  },
  {
   "cell_type": "markdown",
   "metadata": {},
   "source": [
    "### Subtract the background"
   ]
  },
  {
   "cell_type": "code",
   "execution_count": null,
   "metadata": {},
   "outputs": [],
   "source": [
    "#subtract the background\n",
    "image_data_sub = image_data-bkg"
   ]
  },
  {
   "cell_type": "markdown",
   "metadata": {},
   "source": [
    "### Object detection"
   ]
  },
  {
   "cell_type": "code",
   "execution_count": null,
   "metadata": {},
   "outputs": [],
   "source": [
    "thresh = 50\n",
    "objects = sep.extract(image_data_sub, thresh, err=bkg.globalrms*1.5)\n",
    "#what should thresh be, depends on image?\n",
    "print('Number of objects detected: ', len(objects))"
   ]
  },
  {
   "cell_type": "markdown",
   "metadata": {},
   "source": [
    "### Show background-subtracted image and plot an ellipse around each detected object"
   ]
  },
  {
   "cell_type": "code",
   "execution_count": null,
   "metadata": {},
   "outputs": [],
   "source": [
    "from matplotlib.patches import Ellipse\n",
    "\n",
    "#plot background-subtracted image\n",
    "fig, ax = plt.subplots()\n",
    "m, s = np.mean(image_data_sub), np.std(image_data_sub)\n",
    "im = ax.imshow(image_data_sub, interpolation='nearest', cmap='gray', vmin=m-s, vmax=m+s, origin='lower')\n",
    "\n",
    "#plot an ellipse for each object\n",
    "for i in range(len(objects)):\n",
    "    e = Ellipse(xy=(objects['x'][i], objects['y'][i]), width=10*objects['a'][i], height=10*objects['b'][i],\n",
    "                angle=objects['theta'][i] * 180. / np.pi)\n",
    "    e.set_facecolor('none')\n",
    "    e.set_edgecolor('red')\n",
    "    ax.add_artist(e)\n",
    "    \n",
    "plt.savefig('f105w_source_detection.png')"
   ]
  },
  {
   "cell_type": "markdown",
   "metadata": {},
   "source": [
    "### Kehan Zou: Convert to AB magnitudes"
   ]
  },
  {
   "cell_type": "code",
   "execution_count": null,
   "metadata": {},
   "outputs": [],
   "source": [
    "flux, fluxerr, flag = sep.sum_circle(image_data_sub, objects['x'], objects['y'],\n",
    "                                     3.0, err=bkg.globalrms, gain=1.0)"
   ]
  },
  {
   "cell_type": "markdown",
   "metadata": {},
   "source": [
    "### Print a list of the objects with ther luminosity"
   ]
  },
  {
   "cell_type": "code",
   "execution_count": null,
   "metadata": {},
   "outputs": [],
   "source": [
    "for i in range(len(objects)):\n",
    "    print(\"object {:d}: flux = {:f} +/- {:f}\".format(i, flux[i], fluxerr[i]))"
   ]
  },
  {
   "cell_type": "markdown",
   "metadata": {},
   "source": [
    "### Convert flux values to AB magnitudes by formula"
   ]
  },
  {
   "cell_type": "code",
   "execution_count": null,
   "metadata": {},
   "outputs": [],
   "source": [
    "AB_mag = [0] * len(objects)\n",
    "for nmbr in range(len(objects)):\n",
    "    \n",
    "    AB_mag[nmbr]= -2.5*np.math.log10(flux[nmbr]/4)\n",
    "    print(AB_mag[nmbr])"
   ]
  },
  {
   "cell_type": "markdown",
   "metadata": {},
   "source": [
    "### Make a histogram of the converted values"
   ]
  },
  {
   "cell_type": "code",
   "execution_count": null,
   "metadata": {},
   "outputs": [],
   "source": [
    "histogram = plt.hist(AB_mag, bins=len(AB_mag))\n",
    "plt.xlim(-6.,6.)\n",
    "plt.savefig('histogram.png')"
   ]
  }
 ],
 "metadata": {
  "kernelspec": {
   "display_name": "Python 3",
   "language": "python",
   "name": "python3"
  },
  "language_info": {
   "codemirror_mode": {
    "name": "ipython",
    "version": 3
   },
   "file_extension": ".py",
   "mimetype": "text/x-python",
   "name": "python",
   "nbconvert_exporter": "python",
   "pygments_lexer": "ipython3",
   "version": "3.7.0"
  }
 },
 "nbformat": 4,
 "nbformat_minor": 2
}
