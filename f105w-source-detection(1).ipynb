{
 "cells": [
  {
   "cell_type": "markdown",
   "metadata": {},
   "source": [
    "Nina Robbins:"
   ]
  },
  {
   "cell_type": "code",
   "execution_count": null,
   "metadata": {},
   "outputs": [],
   "source": [
    "import astropy\n",
    "import sep\n",
    "from astropy.io import fits\n",
    "import numpy as np\n",
    "import matplotlib.pyplot as plt\n",
    "from matplotlib import rcParams\n",
    "\n",
    "rcParams['figure.figsize'] = [12., 10.]"
   ]
  },
  {
   "cell_type": "code",
   "execution_count": null,
   "metadata": {},
   "outputs": [],
   "source": [
    "fname = 'hlsp_hudf12_hst_wfc3ir_udfmain_f105w_v1.0_drz.fits'\n",
    "hdu_list = fits.open(fname)\n",
    "hdu_list.info()\n",
    "print(hdu_list)"
   ]
  },
  {
   "cell_type": "code",
   "execution_count": null,
   "metadata": {},
   "outputs": [],
   "source": [
    "image_data = hdu_list[0].data\n",
    "m, s = np.mean(image_data), np.std(image_data)\n",
    "plt.imshow(image_data, interpolation = 'nearest', cmap='gray', vmin = m-s, vmax = m+s, origin='lower')\n",
    "plt.colorbar()"
   ]
  },
  {
   "cell_type": "markdown",
   "metadata": {},
   "source": [
    "Measure a spatially varying background on image\n"
   ]
  },
  {
   "cell_type": "code",
   "execution_count": null,
   "metadata": {},
   "outputs": [],
   "source": [
    "bkg = sep.Background(image_data, bw=64, bh=64, fw=3, fh=3)\n",
    "print(bkg.globalback)\n",
    "print(bkg.globalrms)"
   ]
  },
  {
   "cell_type": "code",
   "execution_count": null,
   "metadata": {},
   "outputs": [],
   "source": [
    "bkg_image = bkg.back() #evaluates background as a 2d array, like the original image\n",
    "plt.imshow(bkg_image, interpolation='nearest', cmap='gray', origin='lower')"
   ]
  },
  {
   "cell_type": "code",
   "execution_count": null,
   "metadata": {},
   "outputs": [],
   "source": [
    "#background noise as a 2d array\n",
    "bkg_rms = bkg.rms()\n",
    "plt.imshow(bkg_rms, interpolation='nearest', cmap='gray', origin='lower')"
   ]
  },
  {
   "cell_type": "code",
   "execution_count": null,
   "metadata": {},
   "outputs": [],
   "source": [
    "#subtract the background\n",
    "data_sub = data-bkg"
   ]
  },
  {
   "cell_type": "markdown",
   "metadata": {},
   "source": [
    "Object detetction"
   ]
  },
  {
   "cell_type": "code",
   "execution_count": null,
   "metadata": {},
   "outputs": [],
   "source": [
    "thresh = 1.5\n",
    "objects = sep.extract(data_sub, thresh, err=bkg.globalrms)\n",
    "#what should thresh be, depends on image?\n",
    "print('Number of objects detected: ', len(objects))"
   ]
  },
  {
   "cell_type": "code",
   "execution_count": null,
   "metadata": {},
   "outputs": [],
   "source": [
    "from matplotlib.patches import Ellipse\n",
    "\n",
    "#plot background-subtracted image\n",
    "fig, ax = plt.subplots()\n",
    "m, s = np.mean(data_sub), np.std(data_sub)\n",
    "im = ax.imshow(data_sub, interpolation='nearest', cmap='gray', vmin=m-s, vmax=m+s, origin='lower')\n",
    "\n",
    "#plot an ellipse for each object\n",
    "for i in range(len(objects)):\n",
    "    e = Ellipse(xy=(objects['x'][i], objects['y'][i]), width=6*objects['a'][i], height=6*objects['b'][i],\n",
    "                angle=objects['theta'][i] * 180. / np.pi)\n",
    "    e.set_facecolor('none')\n",
    "    e.set_edgecolor('red')\n",
    "    ax.add_artist(e)"
   ]
  }
 ],
 "metadata": {
  "kernelspec": {
   "display_name": "Python 3",
   "language": "python",
   "name": "python3"
  },
  "language_info": {
   "codemirror_mode": {
    "name": "ipython",
    "version": 3
   },
   "file_extension": ".py",
   "mimetype": "text/x-python",
   "name": "python",
   "nbconvert_exporter": "python",
   "pygments_lexer": "ipython3",
   "version": "3.5.3"
  }
 },
 "nbformat": 4,
 "nbformat_minor": 2
}
