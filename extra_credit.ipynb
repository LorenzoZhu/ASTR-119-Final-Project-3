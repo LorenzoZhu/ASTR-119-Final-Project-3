{
 "cells": [
  {
   "cell_type": "markdown",
   "metadata": {},
   "source": [
    "### Import the modules(Pengpei Zhu)"
   ]
  },
  {
   "cell_type": "code",
   "execution_count": null,
   "metadata": {},
   "outputs": [],
   "source": [
    "#this is based on a tutorila at http://docs.astropy.org/en/v3.0.2/visualization/lupton_rgb.html\n",
    "%matplotlib inline\n",
    "import numpy as np\n",
    "import matplotlib.pyplot as plt\n",
    "from astropy.visualization import make_lupton_rgb #the module that makes rgb image\n",
    "from astropy.io import fits                      #the module that reads fits files\n",
    "from matplotlib import rcParams    #parameters in matplotlib\n",
    "\n",
    "rcParams['figure.figsize'] = [12., 10.]"
   ]
  },
  {
   "cell_type": "markdown",
   "metadata": {},
   "source": [
    "### Open the files(Pengpei Zhu)"
   ]
  },
  {
   "cell_type": "code",
   "execution_count": null,
   "metadata": {},
   "outputs": [],
   "source": [
    "#name of the UDF filter images\n",
    "r_name = \"hlsp_hudf12_hst_wfc3ir_udfmain_f160w_v1.0_drz.fits\"\n",
    "g_name = \"hlsp_hudf12_hst_wfc3ir_udfmain_f125w_v1.0_drz.fits\"\n",
    "b_name = \"hlsp_hudf12_hst_wfc3ir_udfmain_f105w_v1.0_drz.fits\"\n",
    "\n",
    "#read the data using fits.getdata()\n",
    "#define r,g,b coresponsend to UDF\n",
    "r = fits.getdata(r_name)\n",
    "g = fits.getdata(g_name)\n",
    "b = fits.getdata(b_name)\n",
    "\n",
    "#the type and shape of the three images\n",
    "#should be the same\n",
    "print(\"Type r:\",type(r))\n",
    "print(\"Shape r:\",r.shape)\n",
    "\n",
    "print(\"Type g:\",type(g))\n",
    "print(\"Shape g:\",g.shape)\n",
    "\n",
    "print(\"Type b:\",type(b))\n",
    "print(\"Shape b:\",b.shape)"
   ]
  },
  {
   "cell_type": "markdown",
   "metadata": {},
   "source": [
    "### Stack the images(Pengpei Zhu)"
   ]
  },
  {
   "cell_type": "code",
   "execution_count": null,
   "metadata": {},
   "outputs": [],
   "source": [
    "#use make_lupton_rbg to get a rgb image\n",
    "#stretch and Q will change how the values between black and white are scaled\n",
    "#save as a png file\n",
    "rgb_default = make_lupton_rgb(r, g, b, Q=10,stretch=0.08,filename = \"HUDF-RGB.png\")\n",
    "\n",
    "#show the stacked image\n",
    "plt.imshow(rgb_default, vmin=0, vmax=40, origin='low')\n",
    "\n",
    "#the shape of the rgb image\n",
    "print(\"rgb Shape:\",rgb_default.shape)"
   ]
  },
  {
   "cell_type": "code",
   "execution_count": null,
   "metadata": {},
   "outputs": [],
   "source": [
    "#histgram of the rgb image, used to visualize the distrubition \n",
    "#of pixel values and thus determain vmin and vmax\n",
    "image_hist = plt.hist(rgb_default.flatten(), bins=100)\n",
    "plt.xlim(0,100)"
   ]
  }
 ],
 "metadata": {
  "kernelspec": {
   "display_name": "Python 3",
   "language": "python",
   "name": "python3"
  },
  "language_info": {
   "codemirror_mode": {
    "name": "ipython",
    "version": 3
   },
   "file_extension": ".py",
   "mimetype": "text/x-python",
   "name": "python",
   "nbconvert_exporter": "python",
   "pygments_lexer": "ipython3",
   "version": "3.7.0"
  }
 },
 "nbformat": 4,
 "nbformat_minor": 2
}
